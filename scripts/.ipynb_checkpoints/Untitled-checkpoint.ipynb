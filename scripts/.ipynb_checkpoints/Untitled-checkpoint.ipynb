{
 "cells": [
  {
   "cell_type": "markdown",
   "id": "b95605e4-c49e-4d57-aceb-f291959be7c4",
   "metadata": {},
   "source": [
    "# Wikimatic : génération de texte"
   ]
  },
  {
   "cell_type": "code",
   "execution_count": null,
   "id": "1bb8cf6f-979b-4ba2-ac34-74d6d078ce17",
   "metadata": {},
   "outputs": [],
   "source": [
    "import sys\n",
    "sys.path.insert(0,'/home/lena/rnn-text-gen/')"
   ]
  },
  {
   "cell_type": "code",
   "execution_count": null,
   "id": "c993f67c-98b4-41a0-bbdf-b781921f0fa0",
   "metadata": {},
   "outputs": [],
   "source": [
    "# classes du module RNN Text Generation\n",
    "from src.text_generator import RNNTextGenerator\n",
    "from src.dataset import Dataset\n",
    "\n",
    "# modules python\n",
    "import tensorflow as tf\n",
    "import matplotlib.pyplot as plt\n",
    "import numpy as np\n",
    "import pandas as pd"
   ]
  },
  {
   "cell_type": "code",
   "execution_count": null,
   "id": "d4b69148-092c-424e-9e62-b55cf3d58e73",
   "metadata": {},
   "outputs": [],
   "source": [
    "f = open('/home/lena/WikiFandomGen/corpus/fremen.txt')\n",
    "text = f.read()[:1000]"
   ]
  }
 ],
 "metadata": {
  "kernelspec": {
   "display_name": "Python 3 (ipykernel)",
   "language": "python",
   "name": "python3"
  },
  "language_info": {
   "codemirror_mode": {
    "name": "ipython",
    "version": 3
   },
   "file_extension": ".py",
   "mimetype": "text/x-python",
   "name": "python",
   "nbconvert_exporter": "python",
   "pygments_lexer": "ipython3",
   "version": "3.9.7"
  }
 },
 "nbformat": 4,
 "nbformat_minor": 5
}
