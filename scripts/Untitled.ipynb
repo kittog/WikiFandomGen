{
 "cells": [
  {
   "cell_type": "markdown",
   "id": "b95605e4-c49e-4d57-aceb-f291959be7c4",
   "metadata": {},
   "source": [
    "# Wikimatic : génération de texte"
   ]
  },
  {
   "cell_type": "code",
   "execution_count": null,
   "id": "1bb8cf6f-979b-4ba2-ac34-74d6d078ce17",
   "metadata": {},
   "outputs": [],
   "source": [
    "import sys\n",
    "sys.path.insert(0,'/home/lena/rnn-text-gen/')"
   ]
  },
  {
   "cell_type": "code",
   "execution_count": null,
   "id": "c993f67c-98b4-41a0-bbdf-b781921f0fa0",
   "metadata": {},
   "outputs": [],
   "source": [
    "# classes du module RNN Text Generation\n",
    "from src.text_generator import RNNTextGenerator\n",
    "from src.dataset import Dataset\n",
    "\n",
    "# modules python\n",
    "import tensorflow as tf\n",
    "import matplotlib.pyplot as plt\n",
    "import numpy as np\n",
    "import pandas as pd"
   ]
  },
  {
   "cell_type": "code",
   "execution_count": null,
   "id": "bc8318f6-d372-46f0-9e1d-60460337c3ee",
   "metadata": {},
   "outputs": [],
   "source": [
    "seq_length = 25\n",
    "learning_rate = 0.01\n",
    "epoch = 10\n",
    "batch_size = 25"
   ]
  },
  {
   "cell_type": "code",
   "execution_count": null,
   "id": "d4b69148-092c-424e-9e62-b55cf3d58e73",
   "metadata": {},
   "outputs": [],
   "source": [
    "f = open('/home/lena/WikiFandomGen/corpus/fremen.txt')\n",
    "text = f.read()[:1200]"
   ]
  },
  {
   "cell_type": "code",
   "execution_count": null,
   "id": "77b3ab74-26fc-4f8b-aa01-7115e2d6b40c",
   "metadata": {},
   "outputs": [],
   "source": [
    "fremen_dataset = Dataset(text, seq_length)"
   ]
  },
  {
   "cell_type": "code",
   "execution_count": null,
   "id": "62e8231c-966b-491c-807f-608f7ae5ced4",
   "metadata": {},
   "outputs": [],
   "source": [
    "rnn_model = RNNTextGenerator(\n",
    "    seq_length,\n",
    "    alice_dataset.vocab_size,\n",
    "    rnn_cell=tf.compat.v1.nn.rnn_cell.BasicRNNCell,\n",
    "    learning_rate=learning_rate,\n",
    "    epoch=epoch,\n",
    "    batch_size=batch_size,\n",
    ")"
   ]
  },
  {
   "cell_type": "code",
   "execution_count": null,
   "id": "f16e653c-0f05-4891-a42d-477daa679819",
   "metadata": {},
   "outputs": [],
   "source": [
    "rnn_model_scores = rnn_model.fit(\n",
    "    alice_dataset,\n",
    "    save_scores=True\n",
    ")"
   ]
  },
  {
   "cell_type": "code",
   "execution_count": null,
   "id": "c2e26893-5667-49fa-a515-5680ea46d6fc",
   "metadata": {},
   "outputs": [],
   "source": [
    "fig, axes = plt.subplots(figsize=(15, 6), ncols=2)\n",
    "rnn_model_scores['accuracy'].plot(\n",
    "    ax=axes[0], title='Accuracy (Train)'\n",
    ")\n",
    "rnn_model_scores['loss'].plot(\n",
    "    ax=axes[1], title='Loss (Train)'\n",
    ")\n",
    "for ax in axes:\n",
    "    ax.set(xlabel='Steps')"
   ]
  },
  {
   "cell_type": "code",
   "execution_count": null,
   "id": "e5c8f640-4c49-4ba8-ae43-509a1784cd15",
   "metadata": {},
   "outputs": [],
   "source": [
    "# Tuning hyperparameters\n",
    "params = {\n",
    "    'rnn_cell': [\n",
    "        tf.nn.rnn_cell.BasicRNNCell,\n",
    "        tf.nn.rnn_cell.LSTMCell,\n",
    "        tf.nn.rnn_cell.GRUCell,\n",
    "    ],\n",
    "    'n_neurons': np.arange(1, 500),\n",
    "    'activation': [\n",
    "        tf.nn.leaky_relu,\n",
    "        tf.nn.elu,\n",
    "        tf.tanh,\n",
    "    ],\n",
    "    'optimizer': [\n",
    "        tf.train.AdamOptimizer,\n",
    "        tf.train.GradientDescentOptimizer,\n",
    "    ],\n",
    "    'learning_rate': np.linspace(0, 1, 10000, endpoint=False),\n",
    "    'epoch': np.arange(1, 200),\n",
    "    'batch_size': np.arange(25, 100),\n",
    "}\n",
    "\n",
    "dune_model = ModelSelector(alice_dataset, params)\n",
    "\n",
    "for _ in time_limit(hours=2):\n",
    "    alice_models.search()\n",
    "    # Save as a file to peek the results\n",
    "    dune_model.as_df().head(10).to_csv('dune_model.csv')"
   ]
  },
  {
   "cell_type": "code",
   "execution_count": null,
   "id": "d07b54ac-07e2-4b5c-9c2c-4596c0ad0ce7",
   "metadata": {},
   "outputs": [],
   "source": [
    "# Pour des raisons de lisibilité, on définit la séquence d'amorce dans une variable à part\n",
    "start_seq = 'The fremen'\n",
    "\n",
    "# On imprime ici directement l'amorce et le texte généré (mais on pourrait enregistrer le texte généré dans une variable par exemple)\n",
    "print(start_seq + rnn_model.generate(\n",
    "        alice_dataset,\n",
    "        start_seq,\n",
    "        2000\n",
    "    ))"
   ]
  }
 ],
 "metadata": {
  "kernelspec": {
   "display_name": "Python 3 (ipykernel)",
   "language": "python",
   "name": "python3"
  },
  "language_info": {
   "codemirror_mode": {
    "name": "ipython",
    "version": 3
   },
   "file_extension": ".py",
   "mimetype": "text/x-python",
   "name": "python",
   "nbconvert_exporter": "python",
   "pygments_lexer": "ipython3",
   "version": "3.9.7"
  }
 },
 "nbformat": 4,
 "nbformat_minor": 5
}
