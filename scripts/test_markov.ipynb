{
 "cells": [
  {
   "cell_type": "code",
   "execution_count": 1,
   "id": "26615196-53ec-4df2-9b56-3f00c68669eb",
   "metadata": {},
   "outputs": [],
   "source": [
    "import markovify"
   ]
  },
  {
   "cell_type": "code",
   "execution_count": 2,
   "id": "92cd2f41-995f-4917-9215-b8fdbb723b73",
   "metadata": {},
   "outputs": [],
   "source": [
    "with open(\"data/citypop.txt\") as f:\n",
    "    text = f.read()"
   ]
  },
  {
   "cell_type": "code",
   "execution_count": 30,
   "id": "fae4b9c3-cea0-4761-84c4-bc401446f3ac",
   "metadata": {},
   "outputs": [],
   "source": [
    "# créer modèles de chaines de markov\n",
    "text_model = markovify.Text(text, state_size=2, well_formed=False)"
   ]
  },
  {
   "cell_type": "code",
   "execution_count": 34,
   "id": "6888ab3a-3040-4995-8335-ddf2cac54e8e",
   "metadata": {},
   "outputs": [
    {
     "name": "stdout",
     "output_type": "stream",
     "text": [
      "== Définition == La définition de la musique faite par des musiciens de [[Shibuya-kei]] des années 1970 au Japon.\n"
     ]
    }
   ],
   "source": [
    "print(text_model.make_sentence())"
   ]
  },
  {
   "cell_type": "code",
   "execution_count": 35,
   "id": "f1259ec1-3702-4e15-800a-2296cfceb7e0",
   "metadata": {},
   "outputs": [
    {
     "name": "stdout",
     "output_type": "stream",
     "text": [
      "[…] Le genre qu'une classification plus s’accorder sur Internet, et 1980.\n",
      "Elle est un [[genre musical]] apparu vers la [[boîte à l'origine pour les instruments électroniques et du soft rock mais aussi vague et large que celui de ''Japan Archival Series'', Yosuke Kitazawa, « le [[Rhythm and blues|RnB]], le groupe Tin Pan Alley, qui sera surnommé « urbain » - des années 2010, la city pop varie, et ont également Hosono comme une visibilité internationale sur Internet et divers autres styles dans les [[Pizzicato Five]] et du [[vaporwave]] et large que nous voulions transmettre avec [[Magnétocassette|lecteur de la nouvelle classe aisée qu'elle créait<ref name=\"rollingstone\"/> ». Toujours selon le terme strict de ''[[Fact (magazine)|FACT]]'', cela donne naissance au milieu des années 1970 et disco<ref name=\"electronicbeats\">{{article|titre=City Pop: Why Does the Soundtrack to Tokyo's Tech Boom Still Resonate?\n",
      "14 ─ City Pop Vol.\n",
      "Elle décline à des citadins<ref name=\"rollingstone\"/> ». Il identifie deux styles du groupe Tin Pan Alley, qui illustrent la meilleure de boogie et polynésienne, le [[walkman]], les uns des années 1990 tels que personne ne semble plus s’accorder sur Internet, et la fin des Caraïbes}}, [[Musique latine]], {{Lien|langue=en|trad=List of smooth and funky de city pop revival is literally a été utilisé à rythmes]] [[Roland TR-808]].\n",
      "Selon Blistein, de musique latino, caribéenne et [[Mariya Takeuchi]] gagnant une visibilité internationale sur Internet, et les années 1970, Hosono Is the Japanese AOR - à l'origine du [[vaporwave]] et devient une « le [[walkman]], les {{Lien|langue=en|trad=microgenre|fr=microgenre|texte=microgenres}} du RnB - à partir de ''[[Fact (magazine)|FACT]]'', cela donne naissance au public de city pop sont le groupe {{Lien|langue=ja|trad=シュガー・ベイブ||fr=Sugar Babe}} et de Mikey I.Q. Jones, de la city pop varie, et 1980|new music]] japonaise d'influence occidentale, mais avec également Hosono comme un terme a trend in name only|prénom=Ryotaro|nom=Aoki|date=5 juillet 2015|website=The Japan Times}}</ref> ». Selon Ryotaro Aoki, du titre|en}} {{Infobox Musique (style) | origines stylistiques = | origines stylistiques = [[Shibuya-kei]], [[Vaporwave]], Future Funk Tracks |url=http://www.electronicbeats.net/city-pop-guide-japans-overlooked-80s-disco-10-tracks/ |périodique=[[Electronic Beats]] |date=1 novembre 2016}}</ref> ». == Définition == La définition de la technologie et ont balayé les années 1980<ref name=\"electronicbeats\"/>. Elle est venue à partir de la [[J-pop#Années 1970 au Japon au synthé pop est un dérivé de tout temps.\n"
     ]
    }
   ],
   "source": [
    "for i in range(5):\n",
    "    text_model = markovify.Text(text, state_size=1, well_formed=False)\n",
    "    print(text_model.make_sentence(tries=500, test_output=False))"
   ]
  },
  {
   "cell_type": "code",
   "execution_count": 38,
   "id": "8d04bd31-daf3-4c15-8557-7ad880b3a49b",
   "metadata": {},
   "outputs": [
    {
     "name": "stdout",
     "output_type": "stream",
     "text": [
      "== Notes et devient étroitement lié au Japon.\n",
      "Elle est venue à rythmes]] [[Roland TR-808]].\n",
      "14 ─ シティー・ポップ|traduction titre=No.\n",
      "14 ─ シティー・ポップ|traduction titre=No.\n",
      "Certaines des styles dans leur musique.\n"
     ]
    }
   ],
   "source": [
    "for i in range(5):\n",
    "    text_model = markovify.Text(text, state_size=1, well_formed=False)\n",
    "    print(text_model.make_short_sentence(max_chars=50, tries=500))"
   ]
  },
  {
   "cell_type": "code",
   "execution_count": 44,
   "id": "3bf22e6e-3c93-4eff-b31c-0abfbf3e01c3",
   "metadata": {},
   "outputs": [
    {
     "data": {
      "text/plain": [
       "\"City Pop Music Forever |url=https://noisey.vice.com/en_us/article/qv9ne3/haruomi-hosono-guide-playlists-essay |périodique=Noisey |date=10 octobre 2018}}</ref>. ''真夜中のドア (Mayonaka no door) - à inclure divers autres styles distincts qui fusionne avec l'éclatement de tout temps.\""
      ]
     },
     "execution_count": 44,
     "metadata": {},
     "output_type": "execute_result"
    }
   ],
   "source": [
    "text_model.make_sentence_with_start('City', state_size=1)"
   ]
  },
  {
   "cell_type": "code",
   "execution_count": 45,
   "id": "1036af72-a9f0-4edc-9201-29ef29433bc4",
   "metadata": {},
   "outputs": [],
   "source": [
    "with open(\"notebooks/kpop.txt\") as f:\n",
    "    text2 = f.read()"
   ]
  },
  {
   "cell_type": "code",
   "execution_count": 46,
   "id": "490bedff-ee6f-4d99-be98-87a4d0394a46",
   "metadata": {},
   "outputs": [
    {
     "name": "stdout",
     "output_type": "stream",
     "text": [
      "Ainsi, non régulé.\n",
      "Ainsi, le changement pour s'être entraînées et sa conquête du chant) a été critiquées au [[Canada]].\n",
      "Aux États-Unis, ce succès.\n",
      "Durant ces concepts de ne leurs correspondait pas, ainsi que si ces thèmes sélectionnés.\n",
      "Durant ces excuses publiques faites par exemple, des groupes locaux qui peuvent être grave.\n"
     ]
    }
   ],
   "source": [
    "for i in range(5):\n",
    "    text_model = markovify.Text(text2, state_size=1, well_formed=False)\n",
    "    print(text_model.make_short_sentence(max_chars=100, tries=500))"
   ]
  },
  {
   "cell_type": "code",
   "execution_count": 47,
   "id": "d993bd0f-4899-4ab6-a29c-e9363da87676",
   "metadata": {},
   "outputs": [],
   "source": [
    "text1_model = markovify.Text(text, state_size=1, well_formed=False)\n",
    "text2_model = markovify.Text(text2, state_size=1, well_formed=False)"
   ]
  },
  {
   "cell_type": "code",
   "execution_count": 48,
   "id": "6f303a9a-40b3-48fa-9083-09a46d105975",
   "metadata": {},
   "outputs": [],
   "source": [
    "combined_model = markovify.combine([text1_model, text2_model], [1,1]) "
   ]
  },
  {
   "cell_type": "code",
   "execution_count": 49,
   "id": "15ab0093-f95c-4ede-a726-7a72c41e73f6",
   "metadata": {},
   "outputs": [
    {
     "name": "stdout",
     "output_type": "stream",
     "text": [
      "En majorité, c'est ce genre dans un exemple d'un groupe [[EXO (groupe)|EXO]] voit aussi des chansons abordent différent de la société sud-coréenne en [[Corée du Sud.\n"
     ]
    }
   ],
   "source": [
    "print(combined_model.make_sentence())"
   ]
  },
  {
   "cell_type": "code",
   "execution_count": 50,
   "id": "0dd03673-ed66-4c9b-b318-2a03bbdf9197",
   "metadata": {},
   "outputs": [
    {
     "name": "stdout",
     "output_type": "stream",
     "text": [
      "0.9564674989726609\n"
     ]
    }
   ],
   "source": [
    "import random as rd\n",
    "print(rd.random())"
   ]
  },
  {
   "cell_type": "code",
   "execution_count": 63,
   "id": "44e933d7-433d-4c43-b292-c7e1c1f1ac5d",
   "metadata": {},
   "outputs": [
    {
     "name": "stdout",
     "output_type": "stream",
     "text": [
      "|url=https://www.rollingstone.com/music/music-features/japanese-city-pop-returns-light-in-the-attic-compilation-pacific-breeze-822663/ |website=[[Rolling Stone]] |consulté le=9 mai 2019}}</ref> ». == Origines musicales == Notes et devient une visibilité internationale sur Internet, et « moins un rythme percutant<ref name=\"rollingstone\"/> ». Selon Blistein, les uns des styles du future funk.\n"
     ]
    }
   ],
   "source": [
    "rand = rd.random() # btw 0 and 1\n",
    "print(text1_model.make_sentence(max_overlap_ratio = rand))"
   ]
  },
  {
   "cell_type": "code",
   "execution_count": 64,
   "id": "ef256a25-4bd0-4183-bbdf-9ec160141ec2",
   "metadata": {},
   "outputs": [
    {
     "name": "stdout",
     "output_type": "stream",
     "text": [
      "(album de plus en [[Europe]] à peu près {{nombre|130,7|millions}} [[Euro|euros]]), [[YG Entertainment]] ([[VIXX]], [[Seo Tai-ji#Seo Tai-Ji and Boys]], dont beaucoup sont parfois ce seront plutôt un rythme de leur concept imposé par l'Amérique du Sud]] fait le [[japonais]], et lance des vingt-cinq personnalités de la K-pop préféré des pièces fraîches et Asie de populariser ses artistes sont en ligne=https://www.tdg.ch/culture/musique/deferlante-kpop-debarque-europe/story/14764587 |consulté le=2022-09-21}}</ref>. Par exemple, [[STAYC]] peut citer : NU'EST-W<ref>{{Lien web|langue=fr-FR|titre=NU'EST W|url=https://www.nautiljon.com/people/nu-est+w.html|site=www.nautiljon.com|consulté le=2019-05-04}}</ref>. Après avoir caché leur dortoir, d'autres controverses liées à la [[SM Entertainment]] ([[Jinusean]], Sechs Kies, [[BIGBANG (groupe)|BIGBANG]], [[2NE1]], [[Psy (chanteur)|Psy]] : NU'EST-W<ref>{{Lien web|langue=fr-FR|titre=NU'EST W|url=https://www.nautiljon.com/people/nu-est+w.html|site=www.nautiljon.com|consulté le=2019-05-04}}</ref>. === Sous-groupes ou d'école est pratiquée est parfois ce classement dépendent de l'année 2018, soit le [[Japon]] avec la K-pop<ref>{{lien web|langue=en|prénom=Dae Ryun Chang and Out of K-pop|url=http://www.newyorker.com/reporting/2012/10/08/121008fa_fact_seabrook?currentPage=all|série=[[The New Force in and Kyongon Choi|titre=What Marketers Can Learn about K-Pop Idols|lieu=Hong Kong|éditeur=Hong Kong University Press|année=2011|pages totales=221|isbn=978-988-8028-66-5|lire en ligne destinés à remporter un groupe [[Super Junior]], nommé Super Junior.|prénom=August|nom=Brown|date=29 avril 2013|site=[[Soompi]]}}.</ref>. === Utilisation d’Internet === Sous-groupes ou bien conçue est devenue populaire en médiation culturelle, à l'international.\n"
     ]
    }
   ],
   "source": [
    "rand_int = 67\n",
    "print(text2_model.make_sentence(max_overlap_total = rand_int))"
   ]
  }
 ],
 "metadata": {
  "kernelspec": {
   "display_name": "Python 3 (ipykernel)",
   "language": "python",
   "name": "python3"
  },
  "language_info": {
   "codemirror_mode": {
    "name": "ipython",
    "version": 3
   },
   "file_extension": ".py",
   "mimetype": "text/x-python",
   "name": "python",
   "nbconvert_exporter": "python",
   "pygments_lexer": "ipython3",
   "version": "3.9.7"
  }
 },
 "nbformat": 4,
 "nbformat_minor": 5
}
