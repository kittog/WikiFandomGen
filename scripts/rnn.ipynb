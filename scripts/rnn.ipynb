{
 "cells": [
  {
   "cell_type": "markdown",
   "metadata": {
    "id": "EZSjoT6zbsFJ"
   },
   "source": [
    "# Générer du texte avec des RNN"
   ]
  },
  {
   "cell_type": "markdown",
   "metadata": {
    "id": "HEIZgF4tzLON"
   },
   "source": [
    "Nous utiliserons pour cela un module adapté par Donald Dong qui permet d'entraîner rapidement un RNN pour la génération de texte, appelé `rnn-text-gen`. La documentation autour du module en question est [disponible sur Github](https://github.com/donaldong/rnn-text-gen)."
   ]
  },
  {
   "cell_type": "markdown",
   "metadata": {
    "id": "FmPRRWmtcqvv"
   },
   "source": [
    "Contrairement au module `markovify`, nous n'allons pas installer le module et l'importer comme n'importe quel module Python. Nous allons ici devoir récupérer le répertoire git et l'importer ici.\n",
    "\n",
    "On commence pour cela par cloner le répertoire Git."
   ]
  },
  {
   "cell_type": "code",
   "execution_count": 9,
   "metadata": {
    "colab": {
     "base_uri": "https://localhost:8080/"
    },
    "id": "XE8ASkti0HhU",
    "outputId": "be616e10-05a7-4211-a6ef-caae0a339da0"
   },
   "outputs": [
    {
     "name": "stdout",
     "output_type": "stream",
     "text": [
      "fatal: destination path 'rnn-text-gen' already exists and is not an empty directory.\n"
     ]
    }
   ],
   "source": [
    "!git clone https://github.com/donaldong/rnn-text-gen.git"
   ]
  },
  {
   "cell_type": "markdown",
   "metadata": {},
   "source": [
    "On remplace le fichier `text_generator.py` par celui disponible sur iCampus. \n",
    "\n",
    "Ce nouveau code est une migration de l'ancien code de Tensorflow 1 à Tensorflow 2, incluant la modification de certaines fonctions. Il inclut en outre en introduction la fonction `tf.compat.v1.disable_v2_behavior()` qui neutralise les derniers comportements indésirables.\n",
    "\n",
    "L'utilisation de ce code entraîne encore des avertissements, certaines fonctions devenant obsolètes, mais ces avertissements ne sont pas en l'état rédhibitoire."
   ]
  },
  {
   "cell_type": "markdown",
   "metadata": {
    "id": "8mMnEH10dCXB"
   },
   "source": [
    "Il nous faut alors dire au système (ici, notre système virtuel) où se trouve le module que l'on a récupé. On le fait à l'aide du code dans la cellule suivante."
   ]
  },
  {
   "cell_type": "code",
   "execution_count": 20,
   "metadata": {
    "id": "lOzf7goh0VWE"
   },
   "outputs": [],
   "source": [
    "import sys\n",
    "sys.path.insert(0,'/Documents/WikiFandomGen/scripts/rnn-text-gen')"
   ]
  },
  {
   "cell_type": "markdown",
   "metadata": {
    "id": "DeqiimHIdLrn"
   },
   "source": [
    "Le module repose sur une version de TensorFlow antérieure à celle actuellement supportée par Google Colaboratory. Pour pouvoir faire tourner le module en l'état sans devoir en adapter le code pour le rendre compatible avec la version la plus récente de TensorFlow, on installe sur notre instance virtuelle la bonne version de TensorFlow."
   ]
  },
  {
   "cell_type": "markdown",
   "metadata": {
    "id": "d8QTsvQkdm-E"
   },
   "source": [
    "Il nous faut maintenant importer les classes et libraires pertinentes"
   ]
  },
  {
   "cell_type": "code",
   "execution_count": 21,
   "metadata": {
    "colab": {
     "base_uri": "https://localhost:8080/"
    },
    "id": "iqFkQ0wYzFrS",
    "outputId": "e09f38fa-3c0f-45ec-c10c-9b97780fcd8a"
   },
   "outputs": [
    {
     "ename": "ModuleNotFoundError",
     "evalue": "No module named 'src'",
     "output_type": "error",
     "traceback": [
      "\u001b[0;31m---------------------------------------------------------------------------\u001b[0m",
      "\u001b[0;31mModuleNotFoundError\u001b[0m                       Traceback (most recent call last)",
      "\u001b[0;32m/tmp/ipykernel_27059/232732313.py\u001b[0m in \u001b[0;36m<module>\u001b[0;34m\u001b[0m\n\u001b[1;32m      1\u001b[0m \u001b[0;31m# On importe les classes issues du module custom que nous avons cloné\u001b[0m\u001b[0;34m\u001b[0m\u001b[0;34m\u001b[0m\u001b[0m\n\u001b[0;32m----> 2\u001b[0;31m \u001b[0;32mfrom\u001b[0m \u001b[0msrc\u001b[0m\u001b[0;34m.\u001b[0m\u001b[0mtext_generator\u001b[0m \u001b[0;32mimport\u001b[0m \u001b[0mRNNTextGenerator\u001b[0m\u001b[0;34m\u001b[0m\u001b[0;34m\u001b[0m\u001b[0m\n\u001b[0m\u001b[1;32m      3\u001b[0m \u001b[0;32mfrom\u001b[0m \u001b[0msrc\u001b[0m\u001b[0;34m.\u001b[0m\u001b[0mdataset\u001b[0m \u001b[0;32mimport\u001b[0m \u001b[0mDataset\u001b[0m\u001b[0;34m\u001b[0m\u001b[0;34m\u001b[0m\u001b[0m\n\u001b[1;32m      4\u001b[0m \u001b[0;34m\u001b[0m\u001b[0m\n\u001b[1;32m      5\u001b[0m \u001b[0;31m# On importe les librairies classiques nécessaires pour la suite\u001b[0m\u001b[0;34m\u001b[0m\u001b[0;34m\u001b[0m\u001b[0m\n",
      "\u001b[0;31mModuleNotFoundError\u001b[0m: No module named 'src'"
     ]
    }
   ],
   "source": [
    "# On importe les classes issues du module custom que nous avons cloné\n",
    "from src/text_generator import RNNTextGenerator\n",
    "from src/dataset import Dataset\n",
    "\n",
    "# On importe les librairies classiques nécessaires pour la suite\n",
    "import tensorflow as tf\n",
    "import matplotlib.pyplot as plt\n",
    "import numpy as np\n",
    "import pandas as pd"
   ]
  },
  {
   "cell_type": "markdown",
   "metadata": {
    "id": "0g0DY-49eFUB"
   },
   "source": [
    "On peut alors commencer à entraîner notre RNN.\n",
    "\n",
    "On commence par charger notre corpus d'entraînement. Ici, le module vient avec quelques corpus, dont on peut regarder rapidement à quoi ils ressemblent."
   ]
  },
  {
   "cell_type": "code",
   "execution_count": 3,
   "metadata": {
    "colab": {
     "base_uri": "https://localhost:8080/"
    },
    "id": "2ZGTyqwjeRwe",
    "outputId": "bcfb64fd-8597-449d-f539-991ddf065360"
   },
   "outputs": [
    {
     "name": "stdout",
     "output_type": "stream",
     "text": [
      "ALICE'S ADVENTURES IN WONDERLAND\n",
      "\n",
      "Lewis Carroll\n",
      "\n",
      "CHAPTER I. Down the Rabbit-Hole\n",
      "\n",
      "Alice was beginning to get very tired of sitting by her sister on the\n",
      "bank, and of having nothing to do: once or twice she had peeped into the\n",
      "book her sister was reading, but it had no pictures or conversations in\n",
      "it, 'and what is the use of a book,' thought Alice 'without pictures or\n",
      "conversations?'\n",
      "\n",
      "So she was co\n"
     ]
    }
   ],
   "source": [
    "f = open('/path/to/rnn-text-gen/data/alice.txt')\n",
    "text = f.read()\n",
    "print(text[:400])"
   ]
  },
  {
   "cell_type": "markdown",
   "metadata": {
    "id": "gl5gvPrikF1H"
   },
   "source": [
    "Il nous faut maintenant définir les paramètres d'entraînement. Parmi ces paramètres, on trouve :\n",
    "- La taille des batchs (batch_size)\n",
    "- La longueur des séquences (seq_length)\n",
    "- Le nombre d'époch (epoch)\n",
    "- Le taux d'apprentissage (learning_rate)"
   ]
  },
  {
   "cell_type": "code",
   "execution_count": 4,
   "metadata": {
    "id": "pX_RwrTDePBk"
   },
   "outputs": [],
   "source": [
    "seq_length = 25\n",
    "learning_rate = 0.01\n",
    "epoch = 1\n",
    "batch_size = 25"
   ]
  },
  {
   "cell_type": "markdown",
   "metadata": {
    "id": "OAWwKYzQkOzg"
   },
   "source": [
    "On peut alors traiter le corpus, c'est-à-dire créer les vecteurs qui serviront d'input au RNN. Le présent module propose par la fonction Dataset de transformer le corpus en un ensemble de batchs comprenant *n* séquences de longueur *j* de vecteurs one-hot (où *n* correspond à la valeur définie par batch_size, et *j* à la longueur des séquences définie par seq_length)\n",
    "\n",
    "Notons qu'ici, la fonction crée des vecteurs pour les caractères, mais on peut de façon générale choisir de faire des vecteurs pour les mots eux-mêmes et non les caractères.\n",
    "\n",
    "De même, les RNNs peuvent prendre en entrée des vecteurs de type *word embeddings*, mais nous nous limiterons ici aux vecteurs one-hot.\n"
   ]
  },
  {
   "cell_type": "code",
   "execution_count": 5,
   "metadata": {
    "id": "ZO-ZBDJskN6z"
   },
   "outputs": [],
   "source": [
    "alice_dataset = Dataset(['/path/to/rnn-text-gen/data/alice.txt'], seq_length)"
   ]
  },
  {
   "cell_type": "markdown",
   "metadata": {
    "id": "koy7KvOrlEo_"
   },
   "source": [
    "On peut alors entraîner le modèle à l'aide de la fonction `RNNTextGenerator()`. Un argument important de cette fonction est le type d'unités que l'on utilise (ici BasicRNNCell). On pourra plus tard utiliser des unités de type LSTM ou GRU pour entraîner les réseaux de neurones correspondants."
   ]
  },
  {
   "cell_type": "code",
   "execution_count": 6,
   "metadata": {
    "id": "cckpjz4dzarw"
   },
   "outputs": [
    {
     "name": "stdout",
     "output_type": "stream",
     "text": [
      "WARNING:tensorflow:From /home/mwauquier/Enseignement/2022-2023/LYSL001-MachineCreativity/code_rnn/rnn-text-gen/src/text_generator.py:110: dynamic_rnn (from tensorflow.python.ops.rnn) is deprecated and will be removed in a future version.\n",
      "Instructions for updating:\n",
      "Please use `keras.layers.RNN(cell)`, which is equivalent to this API\n",
      "WARNING:tensorflow:From /home/mwauquier/Enseignement/2022-2023/LYSL001-MachineCreativity/code_rnn/lib/python3.10/site-packages/keras/layers/rnn/legacy_cells.py:467: calling Zeros.__init__ (from tensorflow.python.ops.init_ops) with dtype is deprecated and will be removed in a future version.\n",
      "Instructions for updating:\n",
      "Call initializer instance with the dtype argument instead of passing it to the constructor\n"
     ]
    },
    {
     "name": "stderr",
     "output_type": "stream",
     "text": [
      "2022-12-14 08:31:31.639494: W tensorflow/compiler/xla/stream_executor/platform/default/dso_loader.cc:64] Could not load dynamic library 'libcuda.so.1'; dlerror: libcuda.so.1: cannot open shared object file: No such file or directory\n",
      "2022-12-14 08:31:31.639767: W tensorflow/compiler/xla/stream_executor/cuda/cuda_driver.cc:265] failed call to cuInit: UNKNOWN ERROR (303)\n",
      "2022-12-14 08:31:31.639800: I tensorflow/compiler/xla/stream_executor/cuda/cuda_diagnostics.cc:156] kernel driver does not appear to be running on this host (Asclepios): /proc/driver/nvidia/version does not exist\n",
      "2022-12-14 08:31:31.641308: I tensorflow/core/platform/cpu_feature_guard.cc:193] This TensorFlow binary is optimized with oneAPI Deep Neural Network Library (oneDNN) to use the following CPU instructions in performance-critical operations:  AVX2 AVX512F AVX512_VNNI FMA\n",
      "To enable them in other operations, rebuild TensorFlow with the appropriate compiler flags.\n",
      "/home/mwauquier/Enseignement/2022-2023/LYSL001-MachineCreativity/code_rnn/rnn-text-gen/src/text_generator.py:106: UserWarning: `tf.nn.rnn_cell.BasicRNNCell` is deprecated and will be removed in a future version. This class is equivalent as `tf.keras.layers.SimpleRNNCell`, and will be replaced by that in Tensorflow 2.0.\n",
      "  self._tf_rnn_cell = rnn_cell(\n",
      "/home/mwauquier/Enseignement/2022-2023/LYSL001-MachineCreativity/code_rnn/rnn-text-gen/src/text_generator.py:115: UserWarning: `tf.layers.dense` is deprecated and will be removed in a future version. Please use `tf.keras.layers.Dense` instead.\n",
      "  logits = tf.compat.v1.layers.dense(\n",
      "2022-12-14 08:31:31.928486: I tensorflow/compiler/mlir/mlir_graph_optimization_pass.cc:357] MLIR V1 optimization pass is not enabled\n"
     ]
    }
   ],
   "source": [
    "rnn_model = RNNTextGenerator(\n",
    "    seq_length,\n",
    "    alice_dataset.vocab_size,\n",
    "    rnn_cell=tf.compat.v1.nn.rnn_cell.BasicRNNCell,\n",
    "    learning_rate=learning_rate,\n",
    "    epoch=epoch,\n",
    "    batch_size=batch_size,\n",
    ")"
   ]
  },
  {
   "cell_type": "markdown",
   "metadata": {
    "id": "guAfGKL9t8PY"
   },
   "source": [
    "Une façon d'évaluer nos paramètres et le degré de convergence de notre RNN consiste à voir comment évoluent la précision (Accuracy) et la fonction objectif (loss function).\n",
    "\n",
    "On commence par faire converger le modèle sur nos données, et on sauvegarde les scores dans une variable."
   ]
  },
  {
   "cell_type": "code",
   "execution_count": 7,
   "metadata": {
    "id": "hUtLVZ1Jt8t_"
   },
   "outputs": [],
   "source": [
    "rnn_model_scores = rnn_model.fit(\n",
    "    alice_dataset,\n",
    "    save_scores=True\n",
    ")"
   ]
  },
  {
   "cell_type": "markdown",
   "metadata": {
    "id": "MgKj-GaHvENk"
   },
   "source": [
    "On peut alors produire une visualisation graphique de l'évolution de ces scores."
   ]
  },
  {
   "cell_type": "code",
   "execution_count": 8,
   "metadata": {
    "colab": {
     "base_uri": "https://localhost:8080/",
     "height": 404
    },
    "id": "BSqOKcdKvHEc",
    "outputId": "4e125c1e-4405-4801-d60a-429b6e2391aa"
   },
   "outputs": [
    {
     "data": {
      "image/png": "[encoded data removed]",
      "text/plain": [
       "<Figure size 1500x600 with 2 Axes>"
      ]
     },
     "metadata": {},
     "output_type": "display_data"
    }
   ],
   "source": [
    "fig, axes = plt.subplots(figsize=(15, 6), ncols=2)\n",
    "rnn_model_scores['accuracy'].plot(\n",
    "    ax=axes[0], title='Accuracy (Train)'\n",
    ")\n",
    "rnn_model_scores['loss'].plot(\n",
    "    ax=axes[1], title='Loss (Train)'\n",
    ")\n",
    "for ax in axes:\n",
    "    ax.set(xlabel='Steps')"
   ]
  },
  {
   "cell_type": "markdown",
   "metadata": {
    "id": "aXOg9EozveVB"
   },
   "source": [
    "La courbe de la fonction objectif doit normalement une courbe descendante d'abord rapide puis qui ralentit. Si la courbe ne se stabilise cependant pas (qu'il y a beaucoup de pics par exemple), on considère que le RNN n'a pas convergé. Un modèle ne converge pas quand la fonction objectif ne se stabilise pas. Une raison à cette non-convergence peut s'expliquer par le nombre limité d'epochs (1) que nous avons fixé. On peut donc choisir de réentraîner notre RNN avec un nombre d'epochs plus élevé, par exemple.\n",
    "\n",
    "Sachez que l'on peut aussi affiner notre modèle sans le réentraîner de 0 en le va le 'fit' sur nos données (on peut considérer cela comme un epoch). On peut ainsi demander au modèle de s'affiner un certain nombre de fois, ou durant une certaine période, comme on le fait ci-dessous.\n",
    "\n",
    "De façon assez intéressante, on peut suivre l'évolution en direct de ces scores et de l'état de la prédiction en temps réel à mesure que le RNN s'entraîne."
   ]
  },
  {
   "cell_type": "code",
   "execution_count": 9,
   "metadata": {
    "id": "aZXGLh_k36uh"
   },
   "outputs": [
    {
     "name": "stdout",
     "output_type": "stream",
     "text": [
      "test acc: 0.4585599899291992, test loss: 1.9288740158081055\n",
      "INFO:tensorflow:Restoring parameters from ./model/RNNTextGenerator\n",
      "Yes, but sorupear t it, wond: Sor waslle sousct.'\n",
      "\n",
      "'How ffolllitish the Dony,  tlight hismm tyout ort,' said \n",
      "-----------------------\n",
      "test acc: 0.47968000173568726, test loss: 1.80149245262146\n",
      "INFO:tensorflow:Restoring parameters from ./model/RNNTextGenerator\n",
      "Yes, but she look,' said the dorsen to sippinise foinll was deall was to\n",
      "grebshes, the King, as frow a said h\n",
      "-----------------------\n",
      "test acc: 0.48767995834350586, test loss: 1.8074411153793335\n",
      "INFO:tensorflow:Restoring parameters from ./model/RNNTextGenerator\n",
      "Yes, but ooghentioule!' she\n",
      "croom, \"n tichiw. 'I voice: 'torsaw whily.\n",
      "\n",
      "PTERr.\n",
      "\n",
      "'Come of Lover which a, about\n",
      "-----------------------\n",
      "test acc: 0.48639997839927673, test loss: 1.7882955074310303\n",
      "INFO:tensorflow:Restoring parameters from ./model/RNNTextGenerator\n",
      "Yes, but low.'\n",
      "\n",
      "here Kind well, she was peem\n",
      "eave door hande that\n",
      "she shame it wes ane\n",
      "you herself she fainil\n",
      "-----------------------\n",
      "test acc: 0.5206400156021118, test loss: 1.6928379535675049\n",
      "INFO:tensorflow:Restoring parameters from ./model/RNNTextGenerator\n",
      "Yes, but you see: strrigh the difteret dive and she what stooked they her face\n",
      "of greath,'\n",
      "she lig ot Alice j\n",
      "-----------------------\n",
      "test acc: 0.5107200145721436, test loss: 1.6829516887664795\n",
      "INFO:tensorflow:Restoring parameters from ./model/RNNTextGenerator\n",
      "Yes, but how\n",
      "dousy: ' Ande.\n",
      "\n",
      "'Of you itserprialo's looked\n",
      "riguth her\n",
      "my willal down dound ene again: 'but one\n",
      "-----------------------\n",
      "test acc: 0.5088000297546387, test loss: 1.7256405353546143\n",
      "INFO:tensorflow:Restoring parameters from ./model/RNNTextGenerator\n",
      "Yes, but it wondered talked, 'I don't be it was she waye fore with the\n",
      "Lostably whAla.)\n",
      "\n",
      "'Ofe of\n",
      "of ende was \n",
      "-----------------------\n",
      "test acc: 0.5174399614334106, test loss: 1.6423289775848389\n",
      "INFO:tensorflow:Restoring parameters from ./model/RNNTextGenerator\n",
      "Yes, but how my Pighis to the door, af \"NOT I\n",
      "tugh\n",
      " 'Shire. Have not in yind\n",
      "to Alice have ever ly-how, we d \n",
      "-----------------------\n",
      "test acc: 0.49055999517440796, test loss: 1.7353464365005493\n",
      "INFO:tensorflow:Restoring parameters from ./model/RNNTextGenerator\n",
      "Yes, but hed have houghte Lurponings woulen to keT, they with make YOU PRIVE VETER SOUG FTucts--' Alice wonly\n",
      "-----------------------\n",
      "test acc: 0.5222399830818176, test loss: 1.6542108058929443\n",
      "INFO:tensorflow:Restoring parameters from ./model/RNNTextGenerator\n",
      "Yes, but there only out cons do.'Bhe face,\n",
      "that it?' said the Hatter wish seen didard on gould geton! I witho\n",
      "-----------------------\n",
      "test acc: 0.5180799961090088, test loss: 1.641687035560608\n",
      "INFO:tensorflow:Restoring parameters from ./model/RNNTextGenerator\n",
      "Yes, but It's havl I chince letson, and for of these herprind, whet seave? I way.'\n",
      "\n",
      "The rooh unote. The Do!'Y\n",
      "-----------------------\n",
      "test acc: 0.5161600112915039, test loss: 1.6607084274291992\n",
      "INFO:tensorflow:Restoring parameters from ./model/RNNTextGenerator\n",
      "Yes, but leased\n",
      "fautition very bary passing its persling the mout bottle: The maying for itre taying morester\n",
      "-----------------------\n",
      "test acc: 0.5372800230979919, test loss: 1.5831935405731201\n",
      "INFO:tensorflow:Restoring parameters from ./model/RNNTextGenerator\n",
      "Yes, but but there was to\n",
      "do new was nottle, age with a sharksa--apperse a long to oull and you know et to yo\n",
      "-----------------------\n",
      "test acc: 0.5103999972343445, test loss: 1.6450878381729126\n",
      "INFO:tensorflow:Restoring parameters from ./model/RNNTextGenerator\n",
      "Yes, but flame on the now?' said the cobld callardened farghing neyed of the Mouther, 'Would not kars anx-'Th\n",
      "-----------------------\n",
      "test acc: 0.5395200252532959, test loss: 1.5764909982681274\n",
      "INFO:tensorflow:Restoring parameters from ./model/RNNTextGenerator\n",
      "Yes, but would they got and gut of soun a Lony sorewn thought it like surtrey theis.\n",
      "\n",
      "heady it all's I, a lon\n",
      "-----------------------\n",
      "test acc: 0.5260800123214722, test loss: 1.6022485494613647\n",
      "INFO:tensorflow:Restoring parameters from ./model/RNNTextGenerator\n",
      "Yes, but now thattenes increess, and heytung in thoursten, with her an here by to be at their tere time, the \n",
      "-----------------------\n",
      "test acc: 0.5225600004196167, test loss: 1.628361463546753\n",
      "INFO:tensorflow:Restoring parameters from ./model/RNNTextGenerator\n",
      "Yes, but manabled wast proqueelingemt very didsned as washed tornay--sigs ergentenced\n",
      "into lething once nitio\n",
      "-----------------------\n",
      "test acc: 0.5235200524330139, test loss: 1.6422703266143799\n",
      "INFO:tensorflow:Restoring parameters from ./model/RNNTextGenerator\n",
      "Yes, but that interunterdenty?\", and that,' saided a poering was queters, but\n",
      "ferlirn\n",
      "of\n",
      "theen clake\n",
      "of enoug\n",
      "-----------------------\n",
      "test acc: 0.5331200361251831, test loss: 1.571577787399292\n",
      "INFO:tensorflow:Restoring parameters from ./model/RNNTextGenerator\n",
      "Yes, but like hean it, it, and was intly: sorets ture a little feelly were and was of\n",
      "the Dormouse, and as so\n",
      "-----------------------\n",
      "test acc: 0.5347200036048889, test loss: 1.5888538360595703\n",
      "INFO:tensorflow:Restoring parameters from ./model/RNNTextGenerator\n",
      "Yes, but it wasn't\n",
      "minarther be Firusly, and they deccupe. Ohe Duchoush about a\n",
      "but any curcamond.'\n",
      "being thi\n",
      "-----------------------\n",
      "test acc: 0.5372799634933472, test loss: 1.617099404335022\n",
      "INFO:tensorflow:Restoring parameters from ./model/RNNTextGenerator\n",
      "Yes, but he came, that itle she felt they withously all of it, feeling, 'I find her other look of    be befor\n",
      "-----------------------\n",
      "test acc: 0.5228800177574158, test loss: 1.6195714473724365\n",
      "INFO:tensorflow:Restoring parameters from ./model/RNNTextGenerator\n",
      "Yes, but it's netcaps her head! Alice to sill of they, 'In ushing intharkly againesed to be shouth speaked ne\n",
      "-----------------------\n",
      "test acc: 0.5334399938583374, test loss: 1.5935207605361938\n",
      "INFO:tensorflow:Restoring parameters from ./model/RNNTextGenerator\n",
      "Yes, but what funtily and just to her fill,\n",
      "     *   it about it addeatis--\"Wills\n",
      "chesees: come with a little\n",
      "-----------------------\n",
      "test acc: 0.539199948310852, test loss: 1.567366600036621\n",
      "INFO:tensorflow:Restoring parameters from ./model/RNNTextGenerator\n",
      "Yes, but the veres the sudd itstappes in atten here to said the\n",
      "same it's Bier-ent up chearred of the bent an\n",
      "-----------------------\n",
      "test acc: 0.5379199981689453, test loss: 1.5868006944656372\n",
      "INFO:tensorflow:Restoring parameters from ./model/RNNTextGenerator\n",
      "Yes, but out agow, you courd all as loosing about of looking two wilpocing, what\n",
      "all the enough as all\n",
      "the Gr\n",
      "-----------------------\n",
      "test acc: 0.5238400101661682, test loss: 1.626852035522461\n",
      "INFO:tensorflow:Restoring parameters from ./model/RNNTextGenerator\n",
      "Yes, but it know.\n",
      "'Hud.\n",
      "\n",
      "        oncing on tester rear for here!' the King at all brew she was geten't beat h\n",
      "-----------------------\n",
      "test acc: 0.5344000458717346, test loss: 1.604834794998169\n",
      "INFO:tensorflow:Restoring parameters from ./model/RNNTextGenerator\n",
      "Yes, but she\n",
      "said--\".\n",
      "Let well was pas, turning about in asked; But-mouted, 'and verse of hindern door them, \n",
      "-----------------------\n",
      "test acc: 0.5337599515914917, test loss: 1.595658540725708\n",
      "INFO:tensorflow:Restoring parameters from ./model/RNNTextGenerator\n",
      "Yes, but throp after imply them a low\n",
      "ind goldn't appome raps to seapped to more of to wis poot: 'Searding to\n",
      "-----------------------\n",
      "test acc: 0.5087999701499939, test loss: 1.625877022743225\n",
      "INFO:tensorflow:Restoring parameters from ./model/RNNTextGenerator\n",
      "Yes, but to Alice reploce, vair Alics fander to find sitfor too certailed down to creeling to try the Mock Tu\n",
      "-----------------------\n",
      "test acc: 0.5315200090408325, test loss: 1.601374864578247\n",
      "INFO:tensorflow:Restoring parameters from ./model/RNNTextGenerator\n",
      "Yes, but if\n",
      "courge withife tone.\n",
      "\n",
      "'Come they were its were evening as off, of executed at slat of that findly\n",
      "-----------------------\n",
      "test acc: 0.5440000295639038, test loss: 1.5728847980499268\n",
      "INFO:tensorflow:Restoring parameters from ./model/RNNTextGenerator\n",
      "Yes, but thing used yound Mock Turtle out been to sempatsee to her in\n",
      "to do.'\n",
      "\n",
      "TRothereves about cath,'wly, w\n",
      "-----------------------\n",
      "test acc: 0.5270399451255798, test loss: 1.6379426717758179\n",
      "INFO:tensorflow:Restoring parameters from ./model/RNNTextGenerator\n"
     ]
    },
    {
     "name": "stdout",
     "output_type": "stream",
     "text": [
      "Yes, but its beak to her far Mirn the Hatter, it would soepouphing Hare off\n",
      "at makting, the\n",
      "book oft\n",
      "take as \n",
      "-----------------------\n",
      "test acc: 0.5507199764251709, test loss: 1.5409507751464844\n",
      "INFO:tensorflow:Restoring parameters from ./model/RNNTextGenerator\n",
      "Yes, but ol oor and stay all that, 'Wown's shorruphed\n",
      "at thing, play--\"Big the darchilt, and mak--'\n",
      "\n",
      "'I MISER\n",
      "-----------------------\n",
      "test acc: 0.532800018787384, test loss: 1.6143779754638672\n",
      "INFO:tensorflow:Restoring parameters from ./model/RNNTextGenerator\n",
      "Yes, but she could the Firace is owave, as he some the oftly.\n",
      "'Surhow what's phice frighterouge large, and an\n",
      "-----------------------\n",
      "test acc: 0.5491200685501099, test loss: 1.5143245458602905\n",
      "INFO:tensorflow:Restoring parameters from ./model/RNNTextGenerator\n",
      "Yes, but that she remembed speak mouse,' the at's nes a meating say es to fly\n",
      "             -now with shall ha\n",
      "-----------------------\n",
      "test acc: 0.5318400263786316, test loss: 1.6085941791534424\n",
      "INFO:tensorflow:Restoring parameters from ./model/RNNTextGenerator\n",
      "Yes, but house; here.'\n",
      "\n",
      "'I lived one, the lithe, her. Alice, ald every much\n",
      "sooly repeaty, 'im,' sider hurrie\n",
      "-----------------------\n",
      "test acc: 0.5347200036048889, test loss: 1.5692812204360962\n",
      "INFO:tensorflow:Restoring parameters from ./model/RNNTextGenerator\n",
      "Yes, but them, she wanter five of cat\n",
      "the ariole brautheresn's, with the myouse to chothe little ark.\n",
      "\n",
      "\n",
      "'Thin\n",
      "-----------------------\n"
     ]
    }
   ],
   "source": [
    "# On importe la fonction native du module permettant de fixer une durée maximale à l'entraînement\n",
    "from src.time_limit import time_limit\n",
    "\n",
    "# On définit la durée de l'entraînement\n",
    "for _ in time_limit(seconds=60): \n",
    "  # On affine le modèle\n",
    "    rnn_model.fit(alice_dataset)\n",
    "    acc, loss = rnn_model.score(alice_dataset)\n",
    "  # On imprime à chaque epoch la précision et la valeur de la loss function\n",
    "    print('test acc: {}, test loss: {}'.format(\n",
    "        acc, loss\n",
    "    ))\n",
    "  # On demande à chaque epoch d'imprimer une séquence de 100 caractères prédits à partir de la séquence initiale 'Yes, but '\n",
    "    start_seq = 'Yes, but '\n",
    "    print(start_seq + rnn_model.generate(\n",
    "        alice_dataset,\n",
    "        start_seq,\n",
    "        100\n",
    "    ))\n",
    "    print('-----------------------')"
   ]
  },
  {
   "cell_type": "markdown",
   "metadata": {
    "id": "sgzov5cIyd4Z"
   },
   "source": [
    "Quelque soit la performance de votre RNN, il est en tout cas déjà prêt pour la génération de phrase. Générer une séquence se fait à l'aide de la fonction `generate()`. La fonction prend en argument le dataset (c'est-à-dire le dictionnaire contenant les équivalences entre les vecteurs one-hot et les symboles correspondants), la séquence à partir de laquelle prédire, et le nombre de caractères à prédire."
   ]
  },
  {
   "cell_type": "code",
   "execution_count": 9,
   "metadata": {
    "id": "svVaARimBQH_"
   },
   "outputs": [
    {
     "name": "stdout",
     "output_type": "stream",
     "text": [
      "INFO:tensorflow:Restoring parameters from ./model/RNNTextGenerator\n",
      "Of course sos'irt, an crossenedpur: the Alice.\n",
      "\n",
      "'gome a tone simunt, 's in the Grautlle boutent of the Gnlloge, queased whout'r shat hexicked opl, 'BI' 's, lid wous sile,' shile shenokedek sore\n",
      "h hit lling.\n",
      "\n",
      "'are ihere, at eromdos. \n",
      "Ande\n",
      "in see stown to saseine. 'r pOva bous ccriel.'\n",
      "\n",
      "'Nond sting was in the rich. I'Hely,'  lilk ame mout chithit, al\n",
      "said has sagrat eryoughan, and hershoure in wot on Ahice couring,' Back Aloee the Mack oul! she\n",
      "jusele tone was'e\n",
      "uling is id opese.'\n",
      " Dow youst, oue chorkeres\n"
     ]
    }
   ],
   "source": [
    "# Pour des raisons de lisibilité, on définit la séquence d'amorce dans une variable à part\n",
    "start_seq = 'Of course '\n",
    "\n",
    "# On imprime ici directement l'amorce et le texte généré (mais on pourrait enregistrer le texte généré dans une variable par exemple)\n",
    "print(start_seq + rnn_model.generate(\n",
    "        alice_dataset,\n",
    "        start_seq,\n",
    "        500\n",
    "    ))"
   ]
  },
  {
   "cell_type": "markdown",
   "metadata": {
    "id": "Qygj-jafzUax"
   },
   "source": [
    "Comme dit plus haut, vous pouvez entraîner des RNN plus spécifiques, à savoir des LSTM et des réseaux de type GRU. Il suffit pour cela notamment de remplacer dans la fonction d'entraînement BasicRNNCell par LSTMCell ou CRUCell (et modifier les valeurs des autres arguments si besoin)"
   ]
  },
  {
   "cell_type": "markdown",
   "metadata": {
    "id": "j22GJOfj1ltf"
   },
   "source": [
    "## Exercice\n",
    "\n",
    "- Quels sont les paramètres qui vous permettent d'améliorer les résultats pour un petit corpus ?\n",
    "- Quel est l'impact de la taille du corpus ?\n",
    "- Quelle est la performance du RNN sur la prédiction du wikiCréole ?\n",
    "- Quel est le type de réseau de neurones qui marche le mieux (sur vos données) ?"
   ]
  }
 ],
 "metadata": {
  "colab": {
   "provenance": []
  },
  "kernelspec": {
   "display_name": "Python 3.10.6 64-bit",
   "language": "python",
   "name": "python3"
  },
  "language_info": {
   "codemirror_mode": {
    "name": "ipython",
    "version": 3
   },
   "file_extension": ".py",
   "mimetype": "text/x-python",
   "name": "python",
   "nbconvert_exporter": "python",
   "pygments_lexer": "ipython3",
   "version": "3.10.6"
  },
  "vscode": {
   "interpreter": {
    "hash": "916dbcbb3f70747c44a77c7bcd40155683ae19c65e1c03b4aa3499c5328201f1"
   }
  }
 },
 "nbformat": 4,
 "nbformat_minor": 1
}
